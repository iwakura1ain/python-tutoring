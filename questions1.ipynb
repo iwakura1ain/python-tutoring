{
 "cells": [
  {
   "cell_type": "markdown",
   "id": "67a0e5d8-a965-480a-9e6c-abeaa1109e80",
   "metadata": {
    "collapsed": false
   },
   "source": [
    "# Python Program to Check Prime Number\n",
    "\n",
    "Given a positive integer N, The task is to write a Python program to check if the number is Prime or not in Python.\n",
    "\n",
    "### Examples: \n",
    "\n",
    "```\n",
    "Input:  n = 11\n",
    "Output: True\n",
    "\n",
    "\n",
    "Input:  n = 1\n",
    "Output: False\n",
    "```\n",
    "\n",
    "Explanation: A prime number is a natural number greater than 1 that\n",
    " has no positive divisors other than 1 and itself.\n",
    "  The first few prime numbers are {2, 3, 5, 7, 11, ….}. "
   ]
  },
  {
   "cell_type": "code",
   "execution_count": 0,
   "id": "9306ec93-ea3a-473e-b598-ff69d50ccfcd",
   "metadata": {
    "collapsed": false
   },
   "outputs": [],
   "source": []
  },
  {
   "cell_type": "markdown",
   "id": "3ee011c0-8b17-4e2e-b15b-ceb9b4615071",
   "metadata": {
    "collapsed": false
   },
   "source": [
    "# Python Program to Find Largest Number in a List\n",
    "\n",
    "Given a list of numbers, the task is to write a Python program to find the largest number in given list. \n",
    "\n",
    "### Examples:\n",
    "\n",
    "```\n",
    "Input : list1 = [10, 20, 4]\n",
    "Output : 20\n",
    "```\n",
    "\n",
    "Sort the list in ascending order and print the last element in the list.\n"
   ]
  },
  {
   "cell_type": "code",
   "execution_count": 0,
   "id": "0f3543f7-029a-421c-822f-39a8c8fef4bd",
   "metadata": {
    "collapsed": false
   },
   "outputs": [],
   "source": []
  },
  {
   "cell_type": "markdown",
   "id": "7cf7f09e-8dd5-45c7-b00a-1052f43bdbd5",
   "metadata": {
    "collapsed": false
   },
   "source": [
    "# Python Program for Find sum of odd factors of a number\n",
    "\n",
    "Given a number n, the task is to find the odd factor sum. Examples:\n",
    "\n",
    "```\n",
    "Input : n = 30\n",
    "Output : 24\n",
    "Odd dividers sum 1 + 3 + 5 + 15 = 24 \n",
    "\n",
    "Input : 18\n",
    "Output : 13\n",
    "Odd dividers sum 1 + 3 + 9 = 13\n",
    "```\n",
    "\n",
    "Let p1, p2, … pk be prime factors of n. Let a1, a2, .. ak be highest powers of p1, p2, .. pk respectively that divide n, i.e., we can write n as n = (p1a1)*(p2a2)* … (pkak).\n",
    "\n",
    "Sum of divisors = (1 + p1 + p12 ... p1a1) * \n",
    "                  (1 + p2 + p22 ... p2a2) *\n",
    "                  .............................................\n",
    "                  (1 + pk + pk2 ... pkak) \n",
    "\n",
    "To find sum of odd factors, we simply need to ignore even factors and their powers. For example, consider n = 18. It can be written as 2132 and sum of all factors is (1)*(1 + 2)*(1 + 3 + 32). Sum of odd factors (1)*(1+3+32) = 13. To remove all even factors, we repeatedly divide n while it is divisible by 2. After this step, we only get odd factors. Note that 2 is the only even prime."
   ]
  },
  {
   "cell_type": "code",
   "execution_count": null,
   "id": "bd0533e1-8007-4178-bd93-f749da22ef84",
   "metadata": {
    "collapsed": false
   },
   "outputs": [],
   "source": []
  },
  {
   "cell_type": "markdown",
   "id": "e11f76db-dfaf-4ae1-83ab-f5bdce71919f",
   "metadata": {
    "collapsed": false
   },
   "source": [
    "# Python program to find N largest elements from a list\n",
    "\n",
    "Given a list of integers, the task is to find N largest elements assuming size of list is greater than or equal o N. \n",
    "\n",
    "### Examples :\n",
    "\n",
    "```\n",
    "Input : [4, 5, 1, 2, 9] \n",
    "        N = 2\n",
    "Output :  [9, 5]\n",
    "\n",
    "Input : [81, 52, 45, 10, 3, 2, 96] \n",
    "        N = 3\n",
    "Output : [81, 96, 52]\n",
    "```\n",
    "\n",
    "A simple solution traverse the given list N times. In every traversal, find the maximum, add it to result, and remove it from the list."
   ]
  },
  {
   "cell_type": "code",
   "execution_count": 0,
   "id": "bc977df2-e174-4803-b769-a1e5aac39c99",
   "metadata": {
    "collapsed": false
   },
   "outputs": [],
   "source": []
  },
  {
   "cell_type": "markdown",
   "id": "208b4527-9149-45d5-a191-095f7b2e7a7f",
   "metadata": {
    "collapsed": false
   },
   "source": [
    "# Python Program to Add Two Matrices\n",
    "\n",
    "Given two matrices X and Y, the task is to compute the sum of two matrices and then print it in Python. \n",
    "\n",
    "### Examples: \n",
    "\n",
    "```\n",
    "Input :\n",
    " X= [[1,2,3],\n",
    "    [4 ,5,6],\n",
    "    [7 ,8,9]]\n",
    " \n",
    "Y = [[9,8,7],\n",
    "    [6,5,4],\n",
    "    [3,2,1]]\n",
    " \n",
    "Output :\n",
    " result= [[10,10,10],\n",
    "         [10,10,10],\n",
    "         [10,10,10]]\n",
    "\t \n",
    "```\n",
    "Add Two Matrices Using for loop\n",
    "Here we will use for loop with two matrices for adding the elements"
   ]
  },
  {
   "cell_type": "code",
   "execution_count": 0,
   "id": "9fac317d-22cd-4103-b32d-accce0ed68be",
   "metadata": {
    "collapsed": false
   },
   "outputs": [],
   "source": []
  },
  {
   "cell_type": "markdown",
   "id": "40076c1b-6bf4-442c-86ce-1467eb2af8e9",
   "metadata": {
    "collapsed": false
   },
   "source": [
    "# Python program to multiply two matrices\n",
    "\n",
    "Given two matrix the task is that we will have to create a program to multiply two matrices in python. \n",
    "\n",
    "### Examples: \n",
    "\n",
    "```\n",
    "Input : X = [[1, 7, 3],\n",
    "             [3, 5, 6],\n",
    "             [6, 8, 9]]\n",
    "       Y = [[1, 1, 1, 2],\n",
    "           [6, 7, 3, 0],\n",
    "           [4, 5, 9, 1]]\n",
    " \n",
    "Output : [55, 65, 49, 5]\n",
    "         [57, 68, 72, 12]\n",
    "         [90, 107, 111, 21]\n",
    "```\n",
    "\n",
    "Using Simple Nested Loops: In this program we have to use nested for loops to iterate through each row and each column."
   ]
  },
  {
   "cell_type": "code",
   "execution_count": 0,
   "id": "6457bee8-cbe7-4eb6-b181-9b8c6137889c",
   "metadata": {
    "collapsed": false
   },
   "outputs": [],
   "source": []
  },
  {
   "cell_type": "markdown",
   "id": "f393553f-81d7-4632-848e-4038a11b7f23",
   "metadata": {
    "collapsed": false
   },
   "source": [
    "# Python program to print even length words in a string\n",
    "\n",
    "Given a string. The task is to print all words with even length in the given string.\n",
    "\n",
    "### Examples: \n",
    "\n",
    "```\n",
    "Input: s = \"This is a python language\"\n",
    "Output: This is python language\n",
    "\n",
    "Input: s = \"i am laxmi\"\n",
    "Output: am\n",
    "```\n",
    "\n",
    "Method: Finding even length words using for loop and if statement and without using the def function. First split the given string using the split() function and then iterate the words of a string using for loop. Calculate the length of each word using the len() function. If the length is even, then print the word.\n",
    "\n"
   ]
  },
  {
   "cell_type": "code",
   "execution_count": 0,
   "id": "a0cab51d-dfd2-4e10-8855-0891732491fa",
   "metadata": {
    "collapsed": false
   },
   "outputs": [],
   "source": []
  },
  {
   "cell_type": "markdown",
   "id": "675aa0e4-5d00-4855-8f74-fb8157179c70",
   "metadata": {
    "collapsed": false
   },
   "source": [
    "# Python program to find the sum of all items in a dictionary\n",
    "\n",
    "Given a dictionary in Python, write a Python program to find the sum of all items in the dictionary.\n",
    "\n",
    "### Examples: \n",
    "\n",
    "```\n",
    "Input : {‘a’: 100, ‘b’:200, ‘c’:300}\n",
    "Output : 600\n",
    "\n",
    "Input : {‘x’: 25, ‘y’:18, ‘z’:45}\n",
    "Output : 88\n",
    "```\n",
    "\n",
    " \n",
    "Method #1: Using Inbuilt sum() Function\n",
    "\n",
    "Use the sum function to find the sum of dictionary values."
   ]
  },
  {
   "cell_type": "code",
   "execution_count": 0,
   "id": "3d0ae0ef-abc4-4694-930c-6572ff7ffc53",
   "metadata": {
    "collapsed": false
   },
   "outputs": [],
   "source": []
  },
  {
   "cell_type": "markdown",
   "id": "ad9fd4cd-8a88-4656-85b9-e4eb11756e60",
   "metadata": {
    "collapsed": false
   },
   "source": [
    "# Print an Inverted Star Pattern\n",
    "\n",
    "An inverted star pattern involves printing a series of lines, each consisting of stars (*) that are arranged in a decreasing order. Here we are going to print inverted star patterns of desired sizes in Python\n",
    "\n",
    "### Examples:\n",
    "\n",
    "```\n",
    "1) Below is the inverted star pattern of size n=5 \n",
    "  (Because there are 5 horizontal lines\n",
    "   or rows consist of stars). \n",
    "\n",
    "   *****\n",
    "    ****\n",
    "     ***\n",
    "      **\n",
    "       *\n",
    "\n",
    "2) Below is the inverted star pattern of size n=10 \n",
    "  (Because there are 5 horizontal lines\n",
    "   or rows consist of stars).\n",
    "\n",
    "   **********\n",
    "    *********\n",
    "     ********\n",
    "      *******\n",
    "       ******\n",
    "        *****\n",
    "         ****\n",
    "          ***\n",
    "           **\n",
    "            *\n",
    "\t    \n",
    "```\n",
    "The provided Python 3 code generates an inverted star pattern with variable n representing the number of rows. The code iterates through a loop, decrementing i from n to 1. For each iteration, the print function is used to generate the pattern. It multiplies (n-i) with space (‘ ‘) and i with asterisk (‘*’) to create the appropriate number of spaces before the stars. This leads to an inverted triangle pattern where the number of stars in each row decreases while the spaces before them increase, creating the desired inverted star pattern.\n"
   ]
  },
  {
   "cell_type": "code",
   "execution_count": 0,
   "id": "1cadd1e8-4180-4884-9499-487b26c511d7",
   "metadata": {
    "collapsed": false
   },
   "outputs": [],
   "source": []
  },
  {
   "cell_type": "markdown",
   "id": "23628905-4e77-43fe-b549-495cc3d46e2a",
   "metadata": {
    "collapsed": false
   },
   "source": []
  }
 ],
 "metadata": {
  "kernelspec": {
   "argv": [
    "python",
    "-m",
    "ipykernel_launcher",
    "-f",
    "{connection_file}"
   ],
   "display_name": "Python 3 (ipykernel)",
   "env": null,
   "interrupt_mode": "signal",
   "language": "python",
   "metadata": {
    "debugger": true
   },
   "name": "python3"
  },
  "name": "questions1.ipynb"
 },
 "nbformat": 4,
 "nbformat_minor": 5
}
