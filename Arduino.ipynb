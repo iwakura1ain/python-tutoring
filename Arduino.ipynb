{
 "cells": [
  {
   "cell_type": "markdown",
   "id": "195b9a1f-1ca3-4fdd-b221-daeb52ad1ea9",
   "metadata": {
    "collapsed": false
   },
   "source": [
    "# Arduino with Python \n",
    "\n",
    "## Uploading the Firmata Sketch\n",
    "Before you write your Python program to drive Arduino, you have to upload the Firmata sketch so that you can use that protocol to control the board. The sketch is available in the Arduino IDE’s built-in examples. To open it, access the File menu, then Examples, followed by Firmata, and finally StandardFirmata:\n",
    "\n",
    "![Image](./arduino_ide_firmdata.jpg)\n",
    "\n",
    "The sketch will be loaded into a new IDE window. To upload it to the Arduino, you can follow the same steps you did before:\n",
    "\n",
    "Plug the USB cable into the PC.\n",
    "Select the appropriate board and port on the IDE.\n",
    "Press Upload.\n",
    "After the upload is finished, you won’t notice any activity on the Arduino. To control it, you still need a program that can communicate with the board through the serial connection. To work with the Firmata protocol in Python, you’ll need the pyFirmata package, which you can install with pip:\n"
   ]
  },
  {
   "cell_type": "code",
   "execution_count": 4,
   "id": "3dac9953-3c6a-4f31-93fc-a64ad8859a06",
   "metadata": {
    "collapsed": false
   },
   "outputs": [],
   "source": [
    "! pip install pyfirmata"
   ]
  },
  {
   "cell_type": "markdown",
   "id": "9922a1a8-ae84-4cd3-8861-25583c106024",
   "metadata": {
    "collapsed": false
   },
   "source": [
    "After the installation finishes, you can run an equivalent Blink application using Python and Firmata:"
   ]
  },
  {
   "cell_type": "code",
   "execution_count": 3,
   "id": "2d2d3a1a-8aad-414c-8d1f-4d1988736c26",
   "metadata": {
    "collapsed": false
   },
   "outputs": [],
   "source": [
    "import pyfirmata\n",
    "import time\n",
    "\n",
    "board = pyfirmata.Arduino('/dev/ttyACM0')\n",
    "\n",
    "while True:\n",
    "    board.digital[13].write(1)\n",
    "    time.sleep(1)\n",
    "    board.digital[13].write(0)\n",
    "    time.sleep(1)"
   ]
  },
  {
   "cell_type": "markdown",
   "id": "172975ab-b592-47b6-b3c1-8ceeff6cb1d4",
   "metadata": {
    "collapsed": false
   },
   "source": [
    "Here’s how this program works. You import pyfirmata and use it to establish a serial connection with the Arduino board, which is represented by the board object in line 4. You also configure the port in this line by passing an argument to pyfirmata.Arduino(). You can use the Arduino IDE to find the port.\n",
    "\n",
    "board.digital is a list whose elements represent the digital pins of the Arduino. These elements have the methods read() and write(), which will read and write the state of the pins. Like most embedded device programs, this program mainly consists of an infinite loop:\n",
    "\n",
    "In line 7, digital pin 13 is turned on, which turns the LED on for one second.\n",
    "In line 9, this pin is turned off, which turns the LED off for one second.\n",
    "Now that you know the basics of how to control an Arduino with Python, let’s go through some applications to interact with its inputs and outputs."
   ]
  },
  {
   "cell_type": "markdown",
   "id": "4e721896-a943-4f11-a0ca-d9969932d49e",
   "metadata": {
    "collapsed": false
   },
   "source": [
    "## Reading Digital Inputs\n",
    "\n",
    "Digital inputs can have only two possible values. In a circuit, each of these values is represented by a different voltage. The table below shows the digital input representation for a standard Arduino Uno board:\n",
    "\n",
    "Value\tLevel\tVoltage\n",
    "0\tLow\t0V\n",
    "1\tHigh\t5V\n",
    "To control the LED, you’ll use a push button to send digital input values to the Arduino. The button should send 0V to the board when it’s released and 5V to the board when it’s pressed.\n",
    "\n",
    "![circuit1](./circuit1.jpg)\n",
    "\n",
    "Now that you’ve assembled the circuit, you have to run a program on the PC to control it using Firmata. This program will turn on the LED, based on the state of the push button:"
   ]
  },
  {
   "cell_type": "code",
   "execution_count": 3,
   "id": "76dd820d-c76e-4d69-9d78-8cdf09698cc7",
   "metadata": {
    "collapsed": false
   },
   "outputs": [],
   "source": [
    "import pyfirmata\n",
    "import time\n",
    "\n",
    "board = pyfirmata.Arduino('/dev/ttyACM0')\n",
    "\n",
    "it = pyfirmata.util.Iterator(board)\n",
    "it.start()\n",
    "\n",
    "board.digital[10].mode = pyfirmata.INPUT\n",
    "\n",
    "while True:\n",
    "    sw = board.digital[10].read()\n",
    "    if sw is True:\n",
    "        board.digital[13].write(1)\n",
    "    else:\n",
    "        board.digital[13].write(0)\n",
    "    time.sleep(0.1)"
   ]
  },
  {
   "cell_type": "markdown",
   "id": "24206fca-f41c-4f54-8cb9-8d9e8a564b08",
   "metadata": {
    "collapsed": false
   },
   "source": [
    "## Let’s walk through this program:\n",
    "\n",
    "Lines 1 and 2 import pyfirmata and time.\n",
    "Line 4 uses pyfirmata.Arduino() to set the connection with the Arduino board.\n",
    "Line 6 assigns an iterator that will be used to read the status of the inputs of the circuit.\n",
    "Line 7 starts the iterator, which keeps a loop running in parallel with your main code. The loop executes board.iterate() to update the input values obtained from the Arduino board.\n",
    "Line 9 sets pin 10 as a digital input with pyfirmata.INPUT. This is necessary since the default configuration is to use digital pins as outputs.\n",
    "Line 11 starts an infinite while loop. This loop reads the status of the input pin, stores it in sw, and uses this value to turn the LED on or off by changing the value of pin 13.\n",
    "Line 17 waits 0.1 seconds between iterations of the while loop. This isn’t strictly necessary, but it’s a nice trick to avoid overloading the CPU, which reaches 100% load when there isn’t a wait command in the loop.\n"
   ]
  },
  {
   "cell_type": "markdown",
   "id": "58a1b80f-c63b-44d9-8932-bf152a614395",
   "metadata": {
    "collapsed": false
   },
   "source": [
    "## Reading Analog Inputs\n",
    "\n",
    "In contrast to digital inputs, which can only be on or off, analog inputs are used to read values in some range. On the Arduino Uno, the voltage to an analog input ranges from 0V to 5V. Appropriate sensors are used to measure physical quantities, such as distances. These sensors are responsible for encoding these physical quantities in the proper voltage range so they can be read by the Arduino.\n",
    "\n",
    "To read an analog voltage, the Arduino uses an analog-to-digital converter (ADC), which converts the input voltage to a digital number with a fixed number of bits. This determines the resolution of the conversion. The Arduino Uno uses a 10-bit ADC and can determine 1024 different voltage levels.\n",
    "\n",
    "The voltage range for an analog input is encoded to numbers ranging from 0 to 1023. When 0V is applied, the Arduino encodes it to the number 0. When 5V is applied, the encoded number is 1023. All intermediate voltage values are proportionally encoded.\n",
    "\n",
    "A potentiometer is a variable resistor that you can use to set the voltage applied to an Arduino analog input. You’ll connect it to an analog input to control the frequency of a blinking LED:\n",
    "\n",
    "In this circuit, the LED is set up just as before. The end terminals of the potentiometer are connected to ground (GND) and 5V pins. This way, the central terminal (the cursor) can have any voltage in the 0V to 5V range depending on its position, which is connected to the Arduino on analog pin A0.\n",
    "\n",
    "Using a breadboard, you can assemble this circuit as follows:\n",
    "\n",
    "![curcuit2](./circuit2.jpg)"
   ]
  },
  {
   "cell_type": "code",
   "execution_count": 3,
   "id": "7c99160b-2ae7-43dc-a852-c110a278873b",
   "metadata": {
    "collapsed": false
   },
   "outputs": [],
   "source": [
    "import pyfirmata\n",
    "import time\n",
    "\n",
    "board = pyfirmata.Arduino('/dev/ttyACM0')\n",
    "it = pyfirmata.util.Iterator(board)\n",
    "it.start()\n",
    "\n",
    "analog_input = board.get_pin('a:0:i')\n",
    "\n",
    "while True:\n",
    "    analog_value = analog_input.read()\n",
    "    print(analog_value)\n",
    "    time.sleep(0.1)"
   ]
  },
  {
   "cell_type": "markdown",
   "id": "a70bda9e-47b6-4279-8e8a-33b52b28956d",
   "metadata": {
    "collapsed": false
   },
   "source": [
    "In line 8, you set up analog_input as the analog A0 input pin with the argument 'a:0:i'. Inside the infinite while loop, you read this value, store it in analog_value, and display the output to the console with print(). When you move the potentiometer while the program runs, you should output similar to this:\n",
    "\n",
    "0.0\n",
    "0.0293\n",
    "0.1056\n",
    "0.1838\n",
    "0.2717\n",
    "0.3705\n",
    "0.4428\n",
    "0.5064\n",
    "0.5797\n",
    "0.6315\n",
    "0.6764\n",
    "0.7243\n",
    "0.7859\n",
    "0.8446\n",
    "0.9042\n",
    "0.9677\n",
    "1.0\n",
    "1.0\n",
    "\n",
    "The printed values change, ranging from 0 when the position of the potentiometer is on one end to 1 when it’s on the other end. Note that these are float values, which may require conversion depending on the application."
   ]
  },
  {
   "cell_type": "code",
   "execution_count": 4,
   "id": "69445959-ed4e-48a2-b1be-8191fa115374",
   "metadata": {
    "collapsed": false
   },
   "outputs": [],
   "source": []
  },
  {
   "cell_type": "code",
   "execution_count": 4,
   "id": "3fee8c7a-a415-4126-8edb-0bf840dd19f5",
   "metadata": {
    "collapsed": false
   },
   "outputs": [],
   "source": []
  },
  {
   "cell_type": "code",
   "execution_count": 4,
   "id": "95121ba5-aee2-451e-b151-01460101576a",
   "metadata": {
    "collapsed": false
   },
   "outputs": [],
   "source": []
  },
  {
   "cell_type": "code",
   "execution_count": null,
   "id": "bcc9bab3-9224-4160-bd2e-55902f1b4db9",
   "metadata": {
    "collapsed": false
   },
   "outputs": [],
   "source": []
  }
 ],
 "metadata": {
  "kernelspec": {
   "argv": [
    "python",
    "-m",
    "ipykernel_launcher",
    "-f",
    "{connection_file}"
   ],
   "display_name": "Python 3 (ipykernel)",
   "env": null,
   "interrupt_mode": "signal",
   "language": "python",
   "metadata": {
    "debugger": true
   },
   "name": "python3"
  },
  "name": "Arduino.ipynb"
 },
 "nbformat": 4,
 "nbformat_minor": 5
}
