{
 "cells": [
  {
   "cell_type": "markdown",
   "id": "67a0e5d8-a965-480a-9e6c-abeaa1109e80",
   "metadata": {
    "collapsed": false
   },
   "source": [
    "# Python Program to Check Prime Number\n",
    "\n",
    "Given a positive integer N, The task is to write a Python program to check if the number is Prime or not in Python.\n",
    "\n",
    "### Examples: \n",
    "\n",
    "```\n",
    "Input:  n = 11\n",
    "Output: True\n",
    "\n",
    "\n",
    "Input:  n = 1\n",
    "Output: False\n",
    "```\n",
    "\n",
    "Explanation: A prime number is a natural number greater than 1 that\n",
    " has no positive divisors other than 1 and itself.\n",
    "  The first few prime numbers are {2, 3, 5, 7, 11, ….}. "
   ]
  },
  {
   "cell_type": "code",
   "execution_count": null,
   "id": "9306ec93-ea3a-473e-b598-ff69d50ccfcd",
   "metadata": {
    "collapsed": false
   },
   "outputs": [],
   "source": []
  },
  {
   "cell_type": "markdown",
   "id": "3ee011c0-8b17-4e2e-b15b-ceb9b4615071",
   "metadata": {
    "collapsed": false
   },
   "source": [
    "# Python Program to Find Largest Number in a List\n",
    "\n",
    "Given a list of numbers, the task is to write a Python program to find the largest number in given list. \n",
    "\n",
    "### Examples:\n",
    "\n",
    "```\n",
    "Input : list1 = [10, 20, 4]\n",
    "Output : 20\n",
    "```\n",
    "\n",
    "Sort the list in ascending order and print the last element in the list.\n"
   ]
  },
  {
   "cell_type": "code",
   "execution_count": 0,
   "id": "0f3543f7-029a-421c-822f-39a8c8fef4bd",
   "metadata": {
    "collapsed": false
   },
   "outputs": [],
   "source": []
  },
  {
   "cell_type": "markdown",
   "id": "e11f76db-dfaf-4ae1-83ab-f5bdce71919f",
   "metadata": {
    "collapsed": false
   },
   "source": [
    "# Python program to find N largest elements from a list\n",
    "\n",
    "Given a list of integers, the task is to find N largest elements assuming size of list is greater than or equal o N. \n",
    "\n",
    "### Examples :\n",
    "\n",
    "```\n",
    "Input : [4, 5, 1, 2, 9] \n",
    "        N = 2\n",
    "Output :  [9, 5]\n",
    "\n",
    "Input : [81, 52, 45, 10, 3, 2, 96] \n",
    "        N = 3\n",
    "Output : [81, 96, 52]\n",
    "```\n",
    "\n",
    "A simple solution traverse the given list N times. In every traversal, find the maximum, add it to result, and remove it from the list."
   ]
  },
  {
   "cell_type": "code",
   "execution_count": 0,
   "id": "bc977df2-e174-4803-b769-a1e5aac39c99",
   "metadata": {
    "collapsed": false
   },
   "outputs": [],
   "source": []
  },
  {
   "cell_type": "markdown",
   "id": "208b4527-9149-45d5-a191-095f7b2e7a7f",
   "metadata": {
    "collapsed": false
   },
   "source": [
    "# Python Program to Add Two Matrices\n",
    "\n",
    "Given two matrices X and Y, the task is to compute the sum of two matrices and then print it in Python. \n",
    "\n",
    "### Examples: \n",
    "\n",
    "```\n",
    "Input :\n",
    " X= [[1,2,3],\n",
    "    [4 ,5,6],\n",
    "    [7 ,8,9]]\n",
    " \n",
    "Y = [[9,8,7],\n",
    "    [6,5,4],\n",
    "    [3,2,1]]\n",
    " \n",
    "Output :\n",
    " result= [[10,10,10],\n",
    "         [10,10,10],\n",
    "         [10,10,10]]\n",
    "\t \n",
    "```\n",
    "Add Two Matrices Using for loop\n",
    "Here we will use for loop with two matrices for adding the elements"
   ]
  },
  {
   "cell_type": "code",
   "execution_count": 0,
   "id": "9fac317d-22cd-4103-b32d-accce0ed68be",
   "metadata": {
    "collapsed": false
   },
   "outputs": [],
   "source": []
  },
  {
   "cell_type": "markdown",
   "id": "40076c1b-6bf4-442c-86ce-1467eb2af8e9",
   "metadata": {
    "collapsed": false
   },
   "source": [
    "# Python program to multiply two matrices\n",
    "\n",
    "Given two matrix the task is that we will have to create a program to multiply two matrices in python. \n",
    "\n",
    "### Examples: \n",
    "\n",
    "```\n",
    "Input : X = [[1, 7, 3],\n",
    "             [3, 5, 6],\n",
    "             [6, 8, 9]]\n",
    "       Y = [[1, 1, 1, 2],\n",
    "           [6, 7, 3, 0],\n",
    "           [4, 5, 9, 1]]\n",
    " \n",
    "Output : [55, 65, 49, 5]\n",
    "         [57, 68, 72, 12]\n",
    "         [90, 107, 111, 21]\n",
    "```\n",
    "\n",
    "Using Simple Nested Loops: In this program we have to use nested for loops to iterate through each row and each column."
   ]
  },
  {
   "cell_type": "code",
   "execution_count": 0,
   "id": "6457bee8-cbe7-4eb6-b181-9b8c6137889c",
   "metadata": {
    "collapsed": false
   },
   "outputs": [],
   "source": []
  },
  {
   "cell_type": "markdown",
   "id": "f393553f-81d7-4632-848e-4038a11b7f23",
   "metadata": {
    "collapsed": false
   },
   "source": [
    "# Python program to print even length words in a string\n",
    "\n",
    "Given a string. The task is to print all words with even length in the given string.\n",
    "\n",
    "### Examples: \n",
    "\n",
    "```\n",
    "Input: s = \"This is a python language\"\n",
    "Output: This is python language\n",
    "\n",
    "Input: s = \"i am laxmi\"\n",
    "Output: am\n",
    "```\n",
    "\n",
    "Method: Finding even length words using for loop and if statement and without using the def function. First split the given string using the split() function and then iterate the words of a string using for loop. Calculate the length of each word using the len() function. If the length is even, then print the word.\n",
    "\n"
   ]
  }
 ],
 "metadata": {
  "kernelspec": {
   "argv": [
    "python",
    "-m",
    "ipykernel_launcher",
    "-f",
    "{connection_file}"
   ],
   "display_name": "Python 3 (ipykernel)",
   "env": null,
   "interrupt_mode": "signal",
   "language": "python",
   "metadata": {
    "debugger": true
   },
   "name": "python3"
  },
  "name": "Untitled.ipynb"
 },
 "nbformat": 4,
 "nbformat_minor": 5
}
