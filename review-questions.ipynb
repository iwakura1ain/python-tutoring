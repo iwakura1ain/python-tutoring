{
 "cells": [
  {
   "cell_type": "markdown",
   "id": "a81e15af-1811-41b0-9454-86809ffacaad",
   "metadata": {
    "collapsed": false
   },
   "source": [
    "# 함수 \n",
    "인자로 리스트를 받고 결과를 리스트의 합이 나오도록 하는 함수를 만드시오 \n",
    "\n",
    "## input \n",
    "[1, 2, 2, 5]\n",
    "\n",
    "## output\n",
    "10\n"
   ]
  },
  {
   "cell_type": "code",
   "execution_count": 0,
   "id": "a1b112a6-f2ce-420d-b394-56f1d6e9bdbe",
   "metadata": {
    "collapsed": false
   },
   "outputs": [],
   "source": [
    "# hint\n",
    "def sum(...):\n",
    "    return ...\n",
    "    "
   ]
  },
  {
   "cell_type": "markdown",
   "id": "0077fa63-dce3-45f2-b06f-18dc4302e3c7",
   "metadata": {
    "collapsed": false
   },
   "source": [
    "# 함수 \n",
    "인자로 리스트를 받고 결과를 리스트의 길이가 나오도록 하는 함수를 만드시오 \n",
    "\n",
    "## input \n",
    "[1, 2, 3, 4]\n",
    "\n",
    "## output\n",
    "4"
   ]
  },
  {
   "cell_type": "code",
   "execution_count": null,
   "id": "8e640804-f156-4851-9b29-68a47fcf9d89",
   "metadata": {
    "collapsed": false
   },
   "outputs": [],
   "source": [
    "# hint \n",
    "def length(...):\n",
    "    return ...\n"
   ]
  },
  {
   "cell_type": "markdown",
   "id": "8daf12a0-b0e2-4faa-80e5-b0bb7875a11e",
   "metadata": {
    "collapsed": false
   },
   "source": [
    "# 함수 \n",
    "인자로 정수를 받고 정수가 짝수인지 홀수인지 True 또는 False를 반환하는 함수를 만드시오\n",
    "\n",
    "## input \n",
    "143\n",
    "\n",
    "## output\n",
    "False\n",
    "\n",
    "--------------\n",
    "\n",
    "## input \n",
    "122\n",
    "\n",
    "## output\n",
    "True"
   ]
  },
  {
   "cell_type": "code",
   "execution_count": null,
   "id": "5e8ed99d-faa9-4201-9c85-0a64e5a770a1",
   "metadata": {
    "collapsed": false
   },
   "outputs": [],
   "source": []
  },
  {
   "cell_type": "markdown",
   "id": "e9fa66e0-c8da-4970-9575-921ca97934a6",
   "metadata": {
    "collapsed": false
   },
   "source": [
    "# 리스트 \n",
    "리스트 내에서 짝수인 값을 찾으세요 \n",
    "\n",
    "## input \n",
    "[1, 2, 3, 4, 5]\n",
    "\n",
    "## output \n",
    "2\n",
    "4"
   ]
  },
  {
   "cell_type": "code",
   "execution_count": null,
   "id": "347e3fc4-584c-40c0-81a9-fe795d524dc4",
   "metadata": {
    "collapsed": false
   },
   "outputs": [],
   "source": []
  },
  {
   "cell_type": "markdown",
   "id": "7d342795-6dc6-4327-a413-382032c976bf",
   "metadata": {
    "collapsed": false
   },
   "source": [
    "# 리스트 \n",
    "리스트의 앞과 뒤 숫자를 전부 일열로 배열하시오 \n",
    "\n",
    "## input \n",
    "[1, 2, 3, 4, 5, 6, 7, 8]\n",
    "\n",
    "\n",
    "## output \n",
    "18\n",
    "27\n",
    "36\n",
    "45 \n"
   ]
  },
  {
   "cell_type": "code",
   "execution_count": null,
   "id": "6dacc79d-7588-49dc-bc06-4be3eef1457d",
   "metadata": {
    "collapsed": false
   },
   "outputs": [],
   "source": []
  },
  {
   "cell_type": "markdown",
   "id": "cb2e1779-6796-4e68-a274-d01969b2ce80",
   "metadata": {
    "collapsed": false
   },
   "source": [
    "# 이중 리스트 \n",
    "이중 리스트 내에서 길이가 짝수인 리스트를 찾으세요 \n",
    "\n",
    "## input \n",
    "[[1, 2, 3], [2, 3], [3, 4, 5, 6], [1]]\n",
    "\n",
    "## output \n",
    "[2, 3]\n",
    "[3, 4, 5, 6]"
   ]
  },
  {
   "cell_type": "code",
   "execution_count": 0,
   "id": "29238e99-8b53-4b19-861f-6f55612e98bc",
   "metadata": {
    "collapsed": false
   },
   "outputs": [],
   "source": []
  },
  {
   "cell_type": "markdown",
   "id": "5b64b1db-0d05-40f8-8ddf-2077c39891cc",
   "metadata": {
    "collapsed": false
   },
   "source": [
    "# 이중 리스트 \n",
    "이중 리스트 내 합이 가장 큰 순으로 배열하시오 \n",
    "\n",
    "## input\n",
    "[[1, 2, 3], [2, 3], [3, 4, 5, 6], [1]]\n",
    "\n",
    "## output \n",
    "[3, 4, 5, 6]\n",
    "[1, 2, 3]\n",
    "[2, 3]\n",
    "[1]\n"
   ]
  },
  {
   "cell_type": "code",
   "execution_count": 0,
   "id": "a773cc96-2e0d-497b-a0f0-358c93c90480",
   "metadata": {
    "collapsed": false
   },
   "outputs": [],
   "source": []
  },
  {
   "cell_type": "markdown",
   "id": "f21dfe7d-1581-4ec9-909c-a4bc2e9abd8e",
   "metadata": {
    "collapsed": false
   },
   "source": [
    "# 딕셔너리 \n",
    "딕셔너리의 리스트 내 키가 가장 큰 사람을 출력하시오.\n",
    "\n",
    "## input\n",
    "[\n",
    "{\"height\": 150, \"name\": \"test1\"},\n",
    "{\"height\": 130, \"name\": \"test2\"},\n",
    "{\"height\": 100, \"name\": \"test3\"},\n",
    "{\"height\": 200, \"name\": \"test4\"},\n",
    "{\"height\": 180, \"name\": \"test5\"},\n",
    "]\n",
    "\n",
    "## output\n",
    "{\"height\": 200, \"name\": \"test4\"}"
   ]
  },
  {
   "cell_type": "code",
   "execution_count": 0,
   "id": "7b3f6fc3-382f-4a98-842c-d8937ab4e681",
   "metadata": {
    "collapsed": false
   },
   "outputs": [],
   "source": []
  },
  {
   "cell_type": "markdown",
   "id": "ee1de614-bb42-45e8-9dfd-bf7411cf06d4",
   "metadata": {
    "collapsed": false
   },
   "source": [
    "# 클래스 \n",
    "이름, 키, 몸무게를 갖고있는 Person이란 클래스를 정의하고 인스턴스를 3개 만드시오 "
   ]
  },
  {
   "cell_type": "code",
   "execution_count": null,
   "id": "06a33606-8d04-42c5-ac19-679b9650b9b7",
   "metadata": {
    "collapsed": false
   },
   "outputs": [],
   "source": [
    "# hint\n",
    "class Person:\n",
    "    def __init__(...):\n",
    "        self.변수\n",
    "\n",
    "인스턴스 = Person(...)"
   ]
  },
  {
   "cell_type": "markdown",
   "id": "c2a756fd-20e5-4f5d-9b97-e679796ac305",
   "metadata": {
    "collapsed": false
   },
   "source": [
    "# 클래스 \n",
    "Person이란 클래스에 자신의 정보를 출력하는 메서드 함수를 만드시오 "
   ]
  },
  {
   "cell_type": "code",
   "execution_count": null,
   "id": "a87cd896-6633-4982-8d5d-2bf145307f2e",
   "metadata": {
    "collapsed": false
   },
   "outputs": [],
   "source": [
    "# hint\n",
    "class Person:\n",
    "    def __init__(...):\n",
    "        self.변수\n",
    "\n",
    "    def 메서드():\n",
    "        ...\n",
    "\n",
    "인스턴스 = Person(...)\n",
    "인스턴스.메서드()"
   ]
  }
 ],
 "metadata": {
  "kernelspec": {
   "argv": [
    "python",
    "-m",
    "ipykernel_launcher",
    "-f",
    "{connection_file}"
   ],
   "display_name": "Python 3 (ipykernel)",
   "env": null,
   "interrupt_mode": "signal",
   "language": "python",
   "metadata": {
    "debugger": true
   },
   "name": "python3"
  },
  "name": "review-questions.ipynb"
 },
 "nbformat": 4,
 "nbformat_minor": 5
}
