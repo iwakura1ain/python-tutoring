{
 "cells": [
  {
   "cell_type": "code",
   "execution_count": null,
   "id": "0f42d3be-21ab-4881-a4c0-f97d1e68478c",
   "metadata": {
    "collapsed": false
   },
   "outputs": [],
   "source": [
    "# install package to jupyterlite\n",
    "\n",
    "import piplite\n",
    "await piplite.install(['requests'])"
   ]
  }
 ],
 "metadata": {
  "kernelspec": {
   "argv": [
    "python",
    "-m",
    "ipykernel_launcher",
    "-f",
    "{connection_file}"
   ],
   "display_name": "Python 3 (ipykernel)",
   "env": null,
   "interrupt_mode": "signal",
   "language": "python",
   "metadata": {
    "debugger": true
   },
   "name": "python3"
  },
  "name": "installing-packages.ipynb"
 },
 "nbformat": 4,
 "nbformat_minor": 5
}
