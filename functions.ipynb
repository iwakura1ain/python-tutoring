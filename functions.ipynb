{
 "cells": [
  {
   "cell_type": "markdown",
   "metadata": {},
   "source": [
    "# Functions\n",
    "\n",
    "The last basic of Python programming to introduce are **functions**. By using functions, we are able to run sections of code with different inputs *without rewritting the common statements*. You've already seen functions whenever you call `print()` or other common pieces of code we've used in previous modules.\n",
    "\n",
    "Let's see what the structure of a function looks like in Python and break it down:\n",
    "\n",
    "```python\n",
    "def function_name(argument1, argument2,...,):\n",
    "    \"\"\"\n",
    "    Description of function\n",
    "    \"\"\"\n",
    "    \n",
    "    # Function statements\n",
    "    return(return_value)\n",
    "```\n",
    "\n",
    "\n",
    "**Function Name:**  \n",
    "The function name is how you use it later on in the code. use a well-described function name (E.g. `sum_numbers` instead of `function_1`. This make it easier for others to understand (and for you to remember when you come back to it).\n",
    "\n",
    "**Arguments:**  \n",
    "While not required, you will most likely want to write functions that take in arguments. These act as variables within your function that take on the values that you pass in when you run later. There are different types of arguments, which we will discuss later. Arguments can be of any type.\n",
    "\n",
    "**Docstring:**  \n",
    "Docstrings are not required, but can provide additional comments and description of your function. Things to include in a docstring can include a description of the arguments and what the function does.\n",
    "\n",
    "**Function Statements:**  \n",
    "These are what the function will do everytime you call it.\n",
    "\n",
    "**Return Value:**  \n",
    "If you want to return any calculations you have done within a function, you will need to use the `return` statement. You can only return one value from a function. To get around this limitation, you can return multiple values as a tuple."
   ]
  },
  {
   "cell_type": "code",
   "execution_count": 9,
   "metadata": {},
   "outputs": [
    {
     "data": {
      "text/plain": [
       "11"
      ]
     },
     "execution_count": 9,
     "metadata": {},
     "output_type": "execute_result"
    }
   ],
   "source": [
    "def sum_plus(num1, num2, num3):\n",
    "    \"\"\"Takes in three integers or floats, and returns the sum plus an extra number\n",
    "    \n",
    "    Arguments:\n",
    "        num1 (int/float): First Number\n",
    "        num2 (int/float): Second Number\n",
    "        num2 (int/float): Third Number\n",
    "        \n",
    "    Returns:\n",
    "        sum (int/float): Sum of three inputs\n",
    "    \"\"\"\n",
    "    \n",
    "    sum = num1 + num2 + num3 + 5\n",
    "    return(sum)\n",
    "\n",
    "sum_plus(3,2,1)"
   ]
  },
  {
   "cell_type": "markdown",
   "metadata": {},
   "source": [
    "While simple, the case above showcases two key reasons using functions:\n",
    "\n",
    "1. Modularized code: once you define the function, you can call it anywhere else in the script or notebook with different inputs without copying the code."
   ]
  },
  {
   "cell_type": "code",
   "execution_count": 8,
   "metadata": {},
   "outputs": [
    {
     "data": {
      "text/plain": [
       "18"
      ]
     },
     "execution_count": 8,
     "metadata": {},
     "output_type": "execute_result"
    }
   ],
   "source": [
    "sum_three_numbers(5,6,7)"
   ]
  },
  {
   "cell_type": "markdown",
   "metadata": {},
   "source": [
    "2. If you ever need to change an aspect of the function, you no longer have to change it in multiple places. This reduces the potential for bugs or errors caused when making changes.\n",
    "    - For example, if I wanted to add 7 instead of 5, then there is only one place that I would have to edit"
   ]
  },
  {
   "cell_type": "markdown",
   "metadata": {},
   "source": [
    "## Returning Multiple Values\n",
    "As mentioned before, the only way we can return multiple values from a function is to return them in a tuple. Let's see how this works:"
   ]
  },
  {
   "cell_type": "code",
   "execution_count": 15,
   "metadata": {},
   "outputs": [],
   "source": [
    "def pairwise_diff(num1, num2, num3):\n",
    "    \"\"\"Takes in three numbers and the three pairwise differences\n",
    "    \n",
    "    Arguments:\n",
    "        num1 (int/float): First Number\n",
    "        num2 (int/float): Second Number\n",
    "        num2 (int/float): Third Number\n",
    "        \n",
    "    Returns:\n",
    "        pair_diff (tuple of int/float): Pairiwse diffs\n",
    "    \"\"\"\n",
    "    diff_12 = abs(num1 - num2)\n",
    "    diff_13 = abs(num1 - num3)\n",
    "    diff_23 = abs(num2 - num3)\n",
    "    \n",
    "    return((diff_12, diff_13, diff_23))"
   ]
  },
  {
   "cell_type": "code",
   "execution_count": 22,
   "metadata": {},
   "outputs": [
    {
     "name": "stdout",
     "output_type": "stream",
     "text": [
      "Packed: (1, 2, 1)\n",
      "Unpacked: 1 2 1\n"
     ]
    }
   ],
   "source": [
    "# On its own, the return value is a tuple\n",
    "diffs = pairwise_diff(3,2,1)\n",
    "print(\"Packed:\", diffs)\n",
    "\n",
    "# You can \"unpack\" directly by defining the variables to store each component\n",
    "diff1, diff2, diff3 = pairwise_diff(3,2,1)\n",
    "print(\"Unpacked:\", diff1, diff2, diff3)"
   ]
  },
  {
   "cell_type": "markdown",
   "metadata": {},
   "source": [
    "That's the last module for the basics of Python! Congratulations for making it to this point! The guide contains a few more modules for more advanced techniques if you would like to explore more about Python.\n",
    "\n",
    "---\n",
    "\n",
    "[Return to homepage](https://anthony-agbay.github.io/bioe-python-guide/) "
   ]
  }
 ],
 "metadata": {
  "kernelspec": {
   "display_name": "Python 3",
   "language": "python",
   "name": "python3"
  },
  "language_info": {
   "codemirror_mode": {
    "name": "ipython",
    "version": 3
   },
   "file_extension": ".py",
   "mimetype": "text/x-python",
   "name": "python",
   "nbconvert_exporter": "python",
   "pygments_lexer": "ipython3",
   "version": "3.7.3"
  }
 },
 "nbformat": 4,
 "nbformat_minor": 4
}
